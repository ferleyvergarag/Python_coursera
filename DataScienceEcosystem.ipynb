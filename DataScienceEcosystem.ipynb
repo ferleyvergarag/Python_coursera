{
 "cells": [
  {
   "cell_type": "markdown",
   "id": "5f646f82",
   "metadata": {},
   "source": [
    "# Data Science Tools and Ecosystem"
   ]
  },
  {
   "cell_type": "markdown",
   "id": "9b242b8b",
   "metadata": {},
   "source": [
    "In this notebook, Data Science Tools and Ecosystem are summarized."
   ]
  },
  {
   "cell_type": "markdown",
   "id": "6131a44a",
   "metadata": {},
   "source": [
    "Some of the popular languages that Data Scientists use are:"
   ]
  },
  {
   "cell_type": "markdown",
   "id": "42b8a916",
   "metadata": {},
   "source": [
    "1.Python"
   ]
  },
  {
   "cell_type": "markdown",
   "id": "f00deda2",
   "metadata": {},
   "source": [
    "2.Scala"
   ]
  },
  {
   "cell_type": "markdown",
   "id": "5f7e4a2b",
   "metadata": {},
   "source": [
    "3.Java"
   ]
  },
  {
   "cell_type": "markdown",
   "id": "722ffbf4",
   "metadata": {},
   "source": [
    "<p>Some of the commonly used libraries used by Data Scientists include:<br>  \n",
    "1.NumPy <br>    \n",
    "2.Seaborn<br> \n",
    "3.Scikit-Learn<br>     \n",
    "</p>"
   ]
  },
  {
   "cell_type": "markdown",
   "id": "9f0e499c",
   "metadata": {},
   "source": [
    "\n",
    "\n",
    "\n",
    "# Data Science Tools\n",
    "\n",
    "* PostgreSQL\n",
    "* MySQL \n",
    "* MongoDB\n"
   ]
  },
  {
   "cell_type": "markdown",
   "id": "37911f63",
   "metadata": {},
   "source": [
    "### Below are a few examples of evaluating arithmetic expressions in Python"
   ]
  },
  {
   "cell_type": "code",
   "execution_count": 4,
   "id": "ca90668b",
   "metadata": {},
   "outputs": [
    {
     "data": {
      "text/plain": [
       "17"
      ]
     },
     "execution_count": 4,
     "metadata": {},
     "output_type": "execute_result"
    }
   ],
   "source": [
    "#This a simple arithmetic expression to mutiply then add integers\n",
    "(3*4)+5"
   ]
  },
  {
   "cell_type": "code",
   "execution_count": 7,
   "id": "481e20ae",
   "metadata": {},
   "outputs": [
    {
     "data": {
      "text/plain": [
       "3.33"
      ]
     },
     "execution_count": 7,
     "metadata": {},
     "output_type": "execute_result"
    }
   ],
   "source": [
    "#This will convert 200 minutes to hours by diving by 60\n",
    "round((200/60),2) "
   ]
  },
  {
   "cell_type": "markdown",
   "id": "79e7fbbb",
   "metadata": {},
   "source": [
    "<div style=\"padding-left: 30px;\">\n",
    "En este módulo,se  aprendio sobre los diferentes tipos y categorías de herramientas que utilizan los científicos de datos y ejemplos populares de cada una.<br/>\n",
    "\n",
    "<b>Objetivos:</b> \n",
    "\n",
    "* Enumerar varias categorías de herramientas para cientificos de datos.\n",
    "* Describir las características relevantes de las herramientas de código abierto.\n",
    "* Enumerar ejemplos de herramientas de ciencia de datos comerciales y basadas en la nube.\n",
    "\n",
    "\n",
    "</div>\n"
   ]
  },
  {
   "cell_type": "markdown",
   "id": "8571ed0b",
   "metadata": {},
   "source": [
    "##   <h2 stily=\"heading\">Author<h2/>\n",
    "Darwin Ferley Veragara Gomez\n",
    "\n"
   ]
  },
  {
   "cell_type": "code",
   "execution_count": null,
   "id": "875f6430",
   "metadata": {},
   "outputs": [],
   "source": []
  },
  {
   "cell_type": "code",
   "execution_count": null,
   "id": "63ed9b5d",
   "metadata": {},
   "outputs": [],
   "source": []
  }
 ],
 "metadata": {
  "kernelspec": {
   "display_name": "Python 3 (ipykernel)",
   "language": "python",
   "name": "python3"
  },
  "language_info": {
   "codemirror_mode": {
    "name": "ipython",
    "version": 3
   },
   "file_extension": ".py",
   "mimetype": "text/x-python",
   "name": "python",
   "nbconvert_exporter": "python",
   "pygments_lexer": "ipython3",
   "version": "3.11.4"
  }
 },
 "nbformat": 4,
 "nbformat_minor": 5
}
